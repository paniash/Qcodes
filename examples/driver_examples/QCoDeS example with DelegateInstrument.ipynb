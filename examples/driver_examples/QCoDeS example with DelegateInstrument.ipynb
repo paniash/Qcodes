{
 "cells": [
  {
   "cell_type": "markdown",
   "id": "plain-primary",
   "metadata": {},
   "source": [
    "# Qcodes example with DelegateInstrument driver\n",
    "\n",
    "This notebooks explains how to use the `DelegateInstrument` driver.\n",
    "\n",
    "## About\n",
    "The goal of the `DelegateInstrument` driver is to make it easier to combine different parameters together into a new \"virtual\" instrument. Each parameter on a `DelegateInstrument` can point to one or more parameters on other instruments in the station.\n",
    "\n",
    "## Usage\n",
    "The way it's used is mainly by specifying an entry in the station YAML. For instance, let's say you want to use a magnetic field coil. The driver has a method set_field(value, block), that by default is set to block=True, which means the field is ramped in a way that blocks further execution until the desired value is reached. However, let's say you are creating a measurement in which you want the parameter to be set, and while the value is ramping, you want to measure other parameters. This can be done by using `DelegateInstrument` and specifying a custom `setter` for the parameter that gets and sets the magnetic field.\n",
    "\n",
    "By default, each parameter is represented by a `DelegateParameter`. The `DelegateInstrument` also supports passing multiple source parameters to a given parameter. In order to do this, simply specify multiple parameters in the dictionary values  under the `parameters` key.\n",
    "\n",
    "It can also add instrument channels, specified under a separate key `channels`, shown in the second half of the notebook."
   ]
  },
  {
   "cell_type": "code",
   "execution_count": 1,
   "id": "sapphire-quebec",
   "metadata": {
    "execution": {
     "iopub.execute_input": "2024-03-01T14:32:44.182029Z",
     "iopub.status.busy": "2024-03-01T14:32:44.181562Z",
     "iopub.status.idle": "2024-03-01T14:32:44.188445Z",
     "shell.execute_reply": "2024-03-01T14:32:44.187842Z"
    }
   },
   "outputs": [
    {
     "name": "stdout",
     "output_type": "stream",
     "text": [
      "Writing example.yaml\n"
     ]
    }
   ],
   "source": [
    "%%writefile example.yaml\n",
    "\n",
    "instruments:\n",
    "  field_X:\n",
    "    type: qcodes.instrument_drivers.mock_instruments.MockField\n",
    "\n",
    "  field:\n",
    "    type: qcodes.instrument.delegate.DelegateInstrument\n",
    "    init:\n",
    "      parameters:\n",
    "        X:\n",
    "          - field_X.field\n",
    "        ramp_rate:\n",
    "          - field_X.ramp_rate\n",
    "        combined:\n",
    "          - field_X.field\n",
    "          - field_X.ramp_rate\n",
    "      set_initial_values_on_load: true\n",
    "      initial_values:\n",
    "        ramp_rate: 1.0\n",
    "      setters:\n",
    "        X:\n",
    "          method: field_X.set_field\n",
    "          block: false"
   ]
  },
  {
   "cell_type": "code",
   "execution_count": 2,
   "id": "younger-newspaper",
   "metadata": {
    "execution": {
     "iopub.execute_input": "2024-03-01T14:32:44.190840Z",
     "iopub.status.busy": "2024-03-01T14:32:44.190478Z",
     "iopub.status.idle": "2024-03-01T14:32:45.400737Z",
     "shell.execute_reply": "2024-03-01T14:32:45.400184Z"
    }
   },
   "outputs": [
    {
     "name": "stdout",
     "output_type": "stream",
     "text": [
      "Logging hadn't been started.\n",
      "Activating auto-logging. Current session state plus future input saved.\n",
      "Filename       : /home/runner/.qcodes/logs/command_history.log\n",
      "Mode           : append\n",
      "Output logging : True\n",
      "Raw input log  : False\n",
      "Timestamping   : True\n",
      "State          : active\n"
     ]
    },
    {
     "name": "stdout",
     "output_type": "stream",
     "text": [
      "Qcodes Logfile : /home/runner/.qcodes/logs/240301-7619-qcodes.log\n"
     ]
    }
   ],
   "source": [
    "import qcodes as qc\n",
    "from qcodes.dataset import (\n",
    "    Measurement,\n",
    "    initialise_or_create_database_at,\n",
    "    load_or_create_experiment,\n",
    ")"
   ]
  },
  {
   "cell_type": "code",
   "execution_count": 3,
   "id": "muslim-briefs",
   "metadata": {
    "execution": {
     "iopub.execute_input": "2024-03-01T14:32:45.403068Z",
     "iopub.status.busy": "2024-03-01T14:32:45.402880Z",
     "iopub.status.idle": "2024-03-01T14:32:45.461762Z",
     "shell.execute_reply": "2024-03-01T14:32:45.461232Z"
    }
   },
   "outputs": [],
   "source": [
    "station = qc.Station(config_file=\"example.yaml\")"
   ]
  },
  {
   "cell_type": "code",
   "execution_count": 4,
   "id": "greatest-antenna",
   "metadata": {
    "execution": {
     "iopub.execute_input": "2024-03-01T14:32:45.464229Z",
     "iopub.status.busy": "2024-03-01T14:32:45.463904Z",
     "iopub.status.idle": "2024-03-01T14:32:45.483517Z",
     "shell.execute_reply": "2024-03-01T14:32:45.482933Z"
    }
   },
   "outputs": [],
   "source": [
    "field_X = station.load_field_X()\n",
    "field = station.load_field(station=station)"
   ]
  },
  {
   "cell_type": "code",
   "execution_count": 5,
   "id": "every-playing",
   "metadata": {
    "execution": {
     "iopub.execute_input": "2024-03-01T14:32:45.485979Z",
     "iopub.status.busy": "2024-03-01T14:32:45.485648Z",
     "iopub.status.idle": "2024-03-01T14:32:45.491021Z",
     "shell.execute_reply": "2024-03-01T14:32:45.490490Z"
    }
   },
   "outputs": [
    {
     "data": {
      "text/plain": [
       "0.0"
      ]
     },
     "execution_count": 5,
     "metadata": {},
     "output_type": "execute_result"
    }
   ],
   "source": [
    "field.X()"
   ]
  },
  {
   "cell_type": "code",
   "execution_count": 6,
   "id": "undefined-worst",
   "metadata": {
    "execution": {
     "iopub.execute_input": "2024-03-01T14:32:45.492907Z",
     "iopub.status.busy": "2024-03-01T14:32:45.492731Z",
     "iopub.status.idle": "2024-03-01T14:32:45.495749Z",
     "shell.execute_reply": "2024-03-01T14:32:45.495189Z"
    }
   },
   "outputs": [],
   "source": [
    "field.X(1.)"
   ]
  },
  {
   "cell_type": "code",
   "execution_count": 7,
   "id": "recreational-suggestion",
   "metadata": {
    "execution": {
     "iopub.execute_input": "2024-03-01T14:32:45.497798Z",
     "iopub.status.busy": "2024-03-01T14:32:45.497501Z",
     "iopub.status.idle": "2024-03-01T14:32:45.501146Z",
     "shell.execute_reply": "2024-03-01T14:32:45.500619Z"
    }
   },
   "outputs": [
    {
     "data": {
      "text/plain": [
       "7.804234822591145e-05"
      ]
     },
     "execution_count": 7,
     "metadata": {},
     "output_type": "execute_result"
    }
   ],
   "source": [
    "field.X()"
   ]
  },
  {
   "cell_type": "code",
   "execution_count": 8,
   "id": "adopted-exchange",
   "metadata": {
    "execution": {
     "iopub.execute_input": "2024-03-01T14:32:45.503111Z",
     "iopub.status.busy": "2024-03-01T14:32:45.502814Z",
     "iopub.status.idle": "2024-03-01T14:32:45.506463Z",
     "shell.execute_reply": "2024-03-01T14:32:45.505900Z"
    }
   },
   "outputs": [
    {
     "data": {
      "text/plain": [
       "0.0001661062240600586"
      ]
     },
     "execution_count": 8,
     "metadata": {},
     "output_type": "execute_result"
    }
   ],
   "source": [
    "field.X()"
   ]
  },
  {
   "cell_type": "code",
   "execution_count": 9,
   "id": "bound-broadcasting",
   "metadata": {
    "execution": {
     "iopub.execute_input": "2024-03-01T14:32:45.508565Z",
     "iopub.status.busy": "2024-03-01T14:32:45.508273Z",
     "iopub.status.idle": "2024-03-01T14:32:45.511927Z",
     "shell.execute_reply": "2024-03-01T14:32:45.511483Z"
    }
   },
   "outputs": [
    {
     "data": {
      "text/plain": [
       "0.00025674104690551756"
      ]
     },
     "execution_count": 9,
     "metadata": {},
     "output_type": "execute_result"
    }
   ],
   "source": [
    "field.X()"
   ]
  },
  {
   "cell_type": "code",
   "execution_count": 10,
   "id": "casual-ghost",
   "metadata": {
    "execution": {
     "iopub.execute_input": "2024-03-01T14:32:45.513895Z",
     "iopub.status.busy": "2024-03-01T14:32:45.513583Z",
     "iopub.status.idle": "2024-03-01T14:32:45.517395Z",
     "shell.execute_reply": "2024-03-01T14:32:45.516842Z"
    }
   },
   "outputs": [
    {
     "data": {
      "text/plain": [
       "0.0003442287445068359"
      ]
     },
     "execution_count": 10,
     "metadata": {},
     "output_type": "execute_result"
    }
   ],
   "source": [
    "field.X()"
   ]
  },
  {
   "cell_type": "markdown",
   "id": "alike-process",
   "metadata": {},
   "source": [
    "As you can see, the field is now ramped in the background with the specified ramp rate. Now, let's try to create a measurement that uses this ability, and ramps the field in the background while measuring:"
   ]
  },
  {
   "cell_type": "code",
   "execution_count": 11,
   "id": "sustained-tiger",
   "metadata": {
    "execution": {
     "iopub.execute_input": "2024-03-01T14:32:45.519519Z",
     "iopub.status.busy": "2024-03-01T14:32:45.519130Z",
     "iopub.status.idle": "2024-03-01T14:32:45.524104Z",
     "shell.execute_reply": "2024-03-01T14:32:45.523572Z"
    }
   },
   "outputs": [],
   "source": [
    "field.ramp_rate(10.)\n",
    "field_X.field(0.0)"
   ]
  },
  {
   "cell_type": "code",
   "execution_count": 12,
   "id": "pharmaceutical-partition",
   "metadata": {
    "execution": {
     "iopub.execute_input": "2024-03-01T14:32:45.526163Z",
     "iopub.status.busy": "2024-03-01T14:32:45.525986Z",
     "iopub.status.idle": "2024-03-01T14:32:45.529881Z",
     "shell.execute_reply": "2024-03-01T14:32:45.529329Z"
    }
   },
   "outputs": [
    {
     "data": {
      "text/plain": [
       "0.0"
      ]
     },
     "execution_count": 12,
     "metadata": {},
     "output_type": "execute_result"
    }
   ],
   "source": [
    "field.X()"
   ]
  },
  {
   "cell_type": "code",
   "execution_count": 13,
   "id": "happy-ordinance",
   "metadata": {
    "execution": {
     "iopub.execute_input": "2024-03-01T14:32:45.531987Z",
     "iopub.status.busy": "2024-03-01T14:32:45.531672Z",
     "iopub.status.idle": "2024-03-01T14:32:46.814522Z",
     "shell.execute_reply": "2024-03-01T14:32:46.813921Z"
    }
   },
   "outputs": [
    {
     "name": "stdout",
     "output_type": "stream",
     "text": [
      "Starting experimental run with id: 1. \n"
     ]
    }
   ],
   "source": [
    "import time\n",
    "\n",
    "initialise_or_create_database_at(\"delegate_instrument_example.db\")\n",
    "load_or_create_experiment(\"delegate_instrument_experiment\")\n",
    "\n",
    "meas = Measurement(station=station)\n",
    "meas.register_parameter(field.X)\n",
    "\n",
    "with meas.run() as datasaver:\n",
    "    for B in [0.1, 0.0]:\n",
    "        field.X(B)\n",
    "        while field.X() != B:\n",
    "            datasaver.add_result((field.X, field.X()))\n",
    "            time.sleep(0.01)\n",
    "    datasaver.flush_data_to_database()"
   ]
  },
  {
   "cell_type": "code",
   "execution_count": 14,
   "id": "short-medium",
   "metadata": {
    "execution": {
     "iopub.execute_input": "2024-03-01T14:32:46.816979Z",
     "iopub.status.busy": "2024-03-01T14:32:46.816797Z",
     "iopub.status.idle": "2024-03-01T14:32:47.205905Z",
     "shell.execute_reply": "2024-03-01T14:32:47.205202Z"
    }
   },
   "outputs": [
    {
     "data": {
      "text/plain": [
       "<Axes: >"
      ]
     },
     "execution_count": 14,
     "metadata": {},
     "output_type": "execute_result"
    },
    {
     "data": {
      "image/png": "[encoded data removed]",
      "text/plain": [
       "<Figure size 640x480 with 1 Axes>"
      ]
     },
     "metadata": {},
     "output_type": "display_data"
    }
   ],
   "source": [
    "datasaver.dataset.to_pandas_dataframe().plot()"
   ]
  },
  {
   "cell_type": "markdown",
   "id": "incomplete-vietnamese",
   "metadata": {},
   "source": [
    "When specifying multiple source parameters on a given parameter, the grouped parameter will automatically return a `namedtuple` that returns both values."
   ]
  },
  {
   "cell_type": "code",
   "execution_count": 15,
   "id": "dangerous-finder",
   "metadata": {
    "execution": {
     "iopub.execute_input": "2024-03-01T14:32:47.208255Z",
     "iopub.status.busy": "2024-03-01T14:32:47.207959Z",
     "iopub.status.idle": "2024-03-01T14:32:47.213379Z",
     "shell.execute_reply": "2024-03-01T14:32:47.212951Z"
    }
   },
   "outputs": [
    {
     "data": {
      "text/plain": [
       "combined(field=0.0, ramp_rate=10.0)"
      ]
     },
     "execution_count": 15,
     "metadata": {},
     "output_type": "execute_result"
    }
   ],
   "source": [
    "field.combined()"
   ]
  },
  {
   "cell_type": "markdown",
   "id": "consolidated-cooper",
   "metadata": {},
   "source": [
    "We can now also create a custom parameter that does a simple calculation based on the current parameters."
   ]
  },
  {
   "cell_type": "code",
   "execution_count": 16,
   "id": "designed-bloom",
   "metadata": {
    "execution": {
     "iopub.execute_input": "2024-03-01T14:32:47.215758Z",
     "iopub.status.busy": "2024-03-01T14:32:47.215280Z",
     "iopub.status.idle": "2024-03-01T14:32:47.219652Z",
     "shell.execute_reply": "2024-03-01T14:32:47.219144Z"
    }
   },
   "outputs": [],
   "source": [
    "import numpy as np\n",
    "\n",
    "\n",
    "def calculate_ramp_time(X, ramp_rate):\n",
    "    \"\"\"Calculate ramp time in seconds\"\"\"\n",
    "    dfield = np.abs(field.target_field - X)\n",
    "    return 60. * dfield/ramp_rate"
   ]
  },
  {
   "cell_type": "code",
   "execution_count": 17,
   "id": "disabled-logic",
   "metadata": {
    "execution": {
     "iopub.execute_input": "2024-03-01T14:32:47.222021Z",
     "iopub.status.busy": "2024-03-01T14:32:47.221530Z",
     "iopub.status.idle": "2024-03-01T14:32:47.225408Z",
     "shell.execute_reply": "2024-03-01T14:32:47.224824Z"
    },
    "scrolled": true
   },
   "outputs": [],
   "source": [
    "field._create_and_add_parameter(\n",
    "    group_name=\"ramp_time\",\n",
    "    station=station,\n",
    "    paths=[\"field_X.field\", \"field_X.ramp_rate\"],\n",
    "    formatter=calculate_ramp_time\n",
    ")"
   ]
  },
  {
   "cell_type": "code",
   "execution_count": 18,
   "id": "adverse-february",
   "metadata": {
    "execution": {
     "iopub.execute_input": "2024-03-01T14:32:47.227760Z",
     "iopub.status.busy": "2024-03-01T14:32:47.227363Z",
     "iopub.status.idle": "2024-03-01T14:32:47.232383Z",
     "shell.execute_reply": "2024-03-01T14:32:47.231816Z"
    }
   },
   "outputs": [
    {
     "data": {
      "text/plain": [
       "6.0"
      ]
     },
     "execution_count": 18,
     "metadata": {},
     "output_type": "execute_result"
    }
   ],
   "source": [
    "field.ramp_rate(1.0)\n",
    "field.target_field = 0.1\n",
    "field.ramp_time()"
   ]
  },
  {
   "cell_type": "code",
   "execution_count": 19,
   "id": "statutory-xerox",
   "metadata": {
    "execution": {
     "iopub.execute_input": "2024-03-01T14:32:47.234469Z",
     "iopub.status.busy": "2024-03-01T14:32:47.234267Z",
     "iopub.status.idle": "2024-03-01T14:32:47.237398Z",
     "shell.execute_reply": "2024-03-01T14:32:47.236846Z"
    }
   },
   "outputs": [],
   "source": [
    "field.X(0.1)"
   ]
  },
  {
   "cell_type": "code",
   "execution_count": 20,
   "id": "varying-auditor",
   "metadata": {
    "execution": {
     "iopub.execute_input": "2024-03-01T14:32:47.239374Z",
     "iopub.status.busy": "2024-03-01T14:32:47.239202Z",
     "iopub.status.idle": "2024-03-01T14:32:47.243487Z",
     "shell.execute_reply": "2024-03-01T14:32:47.242952Z"
    }
   },
   "outputs": [
    {
     "data": {
      "text/plain": [
       "5.9951138496398935"
      ]
     },
     "execution_count": 20,
     "metadata": {},
     "output_type": "execute_result"
    }
   ],
   "source": [
    "field.ramp_time()"
   ]
  },
  {
   "cell_type": "code",
   "execution_count": 21,
   "id": "chubby-nickel",
   "metadata": {
    "execution": {
     "iopub.execute_input": "2024-03-01T14:32:47.245665Z",
     "iopub.status.busy": "2024-03-01T14:32:47.245277Z",
     "iopub.status.idle": "2024-03-01T14:32:48.250098Z",
     "shell.execute_reply": "2024-03-01T14:32:48.249520Z"
    }
   },
   "outputs": [
    {
     "data": {
      "text/plain": [
       "4.988540172576904"
      ]
     },
     "execution_count": 21,
     "metadata": {},
     "output_type": "execute_result"
    }
   ],
   "source": [
    "import time\n",
    "\n",
    "time.sleep(1.)\n",
    "field.ramp_time()"
   ]
  },
  {
   "cell_type": "code",
   "execution_count": 22,
   "id": "italian-liberty",
   "metadata": {
    "execution": {
     "iopub.execute_input": "2024-03-01T14:32:48.252458Z",
     "iopub.status.busy": "2024-03-01T14:32:48.252278Z",
     "iopub.status.idle": "2024-03-01T14:32:49.257122Z",
     "shell.execute_reply": "2024-03-01T14:32:49.256499Z"
    }
   },
   "outputs": [
    {
     "data": {
      "text/plain": [
       "3.9819118976593018"
      ]
     },
     "execution_count": 22,
     "metadata": {},
     "output_type": "execute_result"
    }
   ],
   "source": [
    "import time\n",
    "\n",
    "time.sleep(1.)\n",
    "field.ramp_time()"
   ]
  },
  {
   "attachments": {},
   "cell_type": "markdown",
   "id": "c1145a2d",
   "metadata": {},
   "source": [
    "## Devices with channels"
   ]
  },
  {
   "cell_type": "markdown",
   "id": "182693f8",
   "metadata": {},
   "source": [
    "The YAML file below specifies the instruments with the channels/parameters we wish to group into a new instrument, here called \"device\". The first example simply adds the channel 'as is' using self.add_submodule, while the readout parameter is added as a DelegateParameter."
   ]
  },
  {
   "cell_type": "code",
   "execution_count": 23,
   "id": "a88d5103",
   "metadata": {
    "execution": {
     "iopub.execute_input": "2024-03-01T14:32:49.259600Z",
     "iopub.status.busy": "2024-03-01T14:32:49.259282Z",
     "iopub.status.idle": "2024-03-01T14:32:49.263358Z",
     "shell.execute_reply": "2024-03-01T14:32:49.262797Z"
    }
   },
   "outputs": [
    {
     "name": "stdout",
     "output_type": "stream",
     "text": [
      "Overwriting example.yaml\n"
     ]
    }
   ],
   "source": [
    "%%writefile example.yaml\n",
    "\n",
    "instruments:\n",
    "  lockin:\n",
    "    type: qcodes.instrument_drivers.mock_instruments.MockLockin\n",
    "\n",
    "  dac:\n",
    "    type: qcodes.instrument_drivers.mock_instruments.MockDAC\n",
    "\n",
    "  device:\n",
    "    type: qcodes.instrument.delegate.DelegateInstrument\n",
    "    init:\n",
    "      parameters:\n",
    "        readout: lockin.X\n",
    "      channels:\n",
    "        gate_1: dac.ch01\n",
    "      set_initial_values_on_load: true\n",
    "      initial_values:\n",
    "        readout: 1e-5\n",
    "        gate_1.voltage.post_delay: 0.01"
   ]
  },
  {
   "cell_type": "code",
   "execution_count": 24,
   "id": "91f2a8ab",
   "metadata": {
    "execution": {
     "iopub.execute_input": "2024-03-01T14:32:49.265478Z",
     "iopub.status.busy": "2024-03-01T14:32:49.265170Z",
     "iopub.status.idle": "2024-03-01T14:32:49.276296Z",
     "shell.execute_reply": "2024-03-01T14:32:49.275716Z"
    }
   },
   "outputs": [],
   "source": [
    "station = qc.Station(config_file=\"example.yaml\")"
   ]
  },
  {
   "cell_type": "code",
   "execution_count": 25,
   "id": "45b22762",
   "metadata": {
    "execution": {
     "iopub.execute_input": "2024-03-01T14:32:49.278992Z",
     "iopub.status.busy": "2024-03-01T14:32:49.278646Z",
     "iopub.status.idle": "2024-03-01T14:32:49.310834Z",
     "shell.execute_reply": "2024-03-01T14:32:49.310225Z"
    }
   },
   "outputs": [],
   "source": [
    "lockin = station.load_lockin()\n",
    "dac = station.load_dac()\n",
    "device = station.load_device(station=station)"
   ]
  },
  {
   "cell_type": "code",
   "execution_count": 26,
   "id": "9bfa54fb",
   "metadata": {
    "execution": {
     "iopub.execute_input": "2024-03-01T14:32:49.313305Z",
     "iopub.status.busy": "2024-03-01T14:32:49.312995Z",
     "iopub.status.idle": "2024-03-01T14:32:49.316469Z",
     "shell.execute_reply": "2024-03-01T14:32:49.315878Z"
    }
   },
   "outputs": [
    {
     "name": "stdout",
     "output_type": "stream",
     "text": [
      "<MockDACChannel: dac_ch01 of MockDAC: dac>\n",
      "0.01\n"
     ]
    }
   ],
   "source": [
    "print(device.gate_1)\n",
    "print(device.gate_1.voltage.post_delay)"
   ]
  },
  {
   "cell_type": "code",
   "execution_count": 27,
   "id": "91d57fe0",
   "metadata": {
    "execution": {
     "iopub.execute_input": "2024-03-01T14:32:49.319044Z",
     "iopub.status.busy": "2024-03-01T14:32:49.318637Z",
     "iopub.status.idle": "2024-03-01T14:32:49.333589Z",
     "shell.execute_reply": "2024-03-01T14:32:49.332934Z"
    }
   },
   "outputs": [
    {
     "name": "stdout",
     "output_type": "stream",
     "text": [
      "0.0\n"
     ]
    },
    {
     "data": {
      "text/plain": [
       "-0.6"
      ]
     },
     "execution_count": 27,
     "metadata": {},
     "output_type": "execute_result"
    }
   ],
   "source": [
    "print(device.gate_1.voltage())\n",
    "device.gate_1.voltage(-0.6)\n",
    "device.gate_1.voltage()"
   ]
  },
  {
   "cell_type": "markdown",
   "id": "37e1c2c3",
   "metadata": {},
   "source": [
    "The second example adds a channel using a custom channel class, which takes the initial channel and its name as input and has a parameter current_valid_ranges."
   ]
  },
  {
   "cell_type": "code",
   "execution_count": 28,
   "id": "7e4becd1",
   "metadata": {
    "execution": {
     "iopub.execute_input": "2024-03-01T14:32:49.336144Z",
     "iopub.status.busy": "2024-03-01T14:32:49.335758Z",
     "iopub.status.idle": "2024-03-01T14:32:49.340700Z",
     "shell.execute_reply": "2024-03-01T14:32:49.340094Z"
    }
   },
   "outputs": [
    {
     "name": "stdout",
     "output_type": "stream",
     "text": [
      "Overwriting example.yaml\n"
     ]
    }
   ],
   "source": [
    "%%writefile example.yaml\n",
    "\n",
    "instruments:\n",
    "  lockin:\n",
    "    type: qcodes.instrument_drivers.mock_instruments.MockLockin\n",
    "\n",
    "  dac:\n",
    "    type: qcodes.instrument_drivers.mock_instruments.MockDAC\n",
    "\n",
    "  device:\n",
    "    type: qcodes.instrument.delegate.DelegateInstrument\n",
    "    init:\n",
    "      parameters:\n",
    "        readout: lockin.X\n",
    "      channels:\n",
    "        type: qcodes.instrument_drivers.mock_instruments.MockCustomChannel\n",
    "        gate_1:\n",
    "          channel: dac.ch01\n",
    "          current_valid_range: [-0.5, 0]\n",
    "      set_initial_values_on_load: true\n",
    "      initial_values:\n",
    "        readout: 1e-5"
   ]
  },
  {
   "cell_type": "code",
   "execution_count": 29,
   "id": "2e3ca8d5",
   "metadata": {
    "execution": {
     "iopub.execute_input": "2024-03-01T14:32:49.343258Z",
     "iopub.status.busy": "2024-03-01T14:32:49.342911Z",
     "iopub.status.idle": "2024-03-01T14:32:49.346245Z",
     "shell.execute_reply": "2024-03-01T14:32:49.345681Z"
    }
   },
   "outputs": [],
   "source": [
    "lockin.close()\n",
    "dac.close()"
   ]
  },
  {
   "cell_type": "code",
   "execution_count": 30,
   "id": "2f2d2b2b",
   "metadata": {
    "execution": {
     "iopub.execute_input": "2024-03-01T14:32:49.348623Z",
     "iopub.status.busy": "2024-03-01T14:32:49.348146Z",
     "iopub.status.idle": "2024-03-01T14:32:49.379373Z",
     "shell.execute_reply": "2024-03-01T14:32:49.378775Z"
    }
   },
   "outputs": [],
   "source": [
    "station = qc.Station(config_file=\"example.yaml\")\n",
    "lockin = station.load_lockin()\n",
    "dac = station.load_dac()"
   ]
  },
  {
   "cell_type": "code",
   "execution_count": 31,
   "id": "9cb653b0",
   "metadata": {
    "execution": {
     "iopub.execute_input": "2024-03-01T14:32:49.382048Z",
     "iopub.status.busy": "2024-03-01T14:32:49.381655Z",
     "iopub.status.idle": "2024-03-01T14:32:49.397333Z",
     "shell.execute_reply": "2024-03-01T14:32:49.396772Z"
    }
   },
   "outputs": [],
   "source": [
    "device = station.load_device(station=station)"
   ]
  },
  {
   "cell_type": "code",
   "execution_count": 32,
   "id": "433d9646",
   "metadata": {
    "execution": {
     "iopub.execute_input": "2024-03-01T14:32:49.399912Z",
     "iopub.status.busy": "2024-03-01T14:32:49.399492Z",
     "iopub.status.idle": "2024-03-01T14:32:49.404349Z",
     "shell.execute_reply": "2024-03-01T14:32:49.403786Z"
    }
   },
   "outputs": [
    {
     "data": {
      "text/plain": [
       "<MockCustomChannel: dac_gate_1 of MockDAC: dac>"
      ]
     },
     "execution_count": 32,
     "metadata": {},
     "output_type": "execute_result"
    }
   ],
   "source": [
    "device.gate_1"
   ]
  },
  {
   "cell_type": "code",
   "execution_count": 33,
   "id": "3d2b8faa",
   "metadata": {
    "execution": {
     "iopub.execute_input": "2024-03-01T14:32:49.406563Z",
     "iopub.status.busy": "2024-03-01T14:32:49.406191Z",
     "iopub.status.idle": "2024-03-01T14:32:49.410256Z",
     "shell.execute_reply": "2024-03-01T14:32:49.409724Z"
    }
   },
   "outputs": [],
   "source": [
    "device.gate_1.voltage(-0.3)"
   ]
  },
  {
   "cell_type": "code",
   "execution_count": 34,
   "id": "49def342",
   "metadata": {
    "execution": {
     "iopub.execute_input": "2024-03-01T14:32:49.412482Z",
     "iopub.status.busy": "2024-03-01T14:32:49.412093Z",
     "iopub.status.idle": "2024-03-01T14:32:49.416837Z",
     "shell.execute_reply": "2024-03-01T14:32:49.416236Z"
    }
   },
   "outputs": [
    {
     "data": {
      "text/plain": [
       "-0.3"
      ]
     },
     "execution_count": 34,
     "metadata": {},
     "output_type": "execute_result"
    }
   ],
   "source": [
    "device.gate_1.voltage()"
   ]
  },
  {
   "cell_type": "markdown",
   "id": "7b122128",
   "metadata": {},
   "source": [
    "The MockCustomChannel has a parameter `current_valid_range`."
   ]
  },
  {
   "cell_type": "code",
   "execution_count": 35,
   "id": "d32a06fd",
   "metadata": {
    "execution": {
     "iopub.execute_input": "2024-03-01T14:32:49.419159Z",
     "iopub.status.busy": "2024-03-01T14:32:49.418839Z",
     "iopub.status.idle": "2024-03-01T14:32:49.423533Z",
     "shell.execute_reply": "2024-03-01T14:32:49.422991Z"
    }
   },
   "outputs": [
    {
     "data": {
      "text/plain": [
       "[-0.5, 0]"
      ]
     },
     "execution_count": 35,
     "metadata": {},
     "output_type": "execute_result"
    }
   ],
   "source": [
    "device.gate_1.current_valid_range()"
   ]
  }
 ],
 "metadata": {
  "kernelspec": {
   "display_name": "Python 3 (ipykernel)",
   "language": "python",
   "name": "python3"
  },
  "language_info": {
   "codemirror_mode": {
    "name": "ipython",
    "version": 3
   },
   "file_extension": ".py",
   "mimetype": "text/x-python",
   "name": "python",
   "nbconvert_exporter": "python",
   "pygments_lexer": "ipython3",
   "version": "3.11.8"
  }
 },
 "nbformat": 4,
 "nbformat_minor": 5
}
