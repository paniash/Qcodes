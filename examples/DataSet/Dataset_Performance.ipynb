{
 "cells": [
  {
   "cell_type": "markdown",
   "metadata": {},
   "source": [
    "# DataSet Performance\n",
    "\n",
    "This notebook shows the trade-off between inserting data into a database row-by-row and as binary blobs. Inserting the data row-by-row means that we have direct access to all the data and may perform queries directly on the values of the data. On the other hand, as we shall see, this is much slower than inserting the data directly as binary blobs."
   ]
  },
  {
   "cell_type": "markdown",
   "metadata": {},
   "source": [
    "First, we choose a new location for the database to ensure that we don't add a bunch of benchmarking data to the default one."
   ]
  },
  {
   "cell_type": "code",
   "execution_count": 1,
   "metadata": {
    "execution": {
     "iopub.execute_input": "2024-03-01T14:33:44.563742Z",
     "iopub.status.busy": "2024-03-01T14:33:44.563273Z",
     "iopub.status.idle": "2024-03-01T14:33:45.827723Z",
     "shell.execute_reply": "2024-03-01T14:33:45.827095Z"
    }
   },
   "outputs": [
    {
     "name": "stdout",
     "output_type": "stream",
     "text": [
      "Logging hadn't been started.\n",
      "Activating auto-logging. Current session state plus future input saved.\n",
      "Filename       : /home/runner/.qcodes/logs/command_history.log\n",
      "Mode           : append\n",
      "Output logging : True\n",
      "Raw input log  : False\n",
      "Timestamping   : True\n",
      "State          : active\n"
     ]
    },
    {
     "name": "stdout",
     "output_type": "stream",
     "text": [
      "Qcodes Logfile : /home/runner/.qcodes/logs/240301-13644-qcodes.log\n"
     ]
    }
   ],
   "source": [
    "import os\n",
    "\n",
    "cwd = os.getcwd()\n",
    "import qcodes as qc\n",
    "\n",
    "qc.config[\"core\"][\"db_location\"] = os.path.join(cwd, 'testing.db')"
   ]
  },
  {
   "cell_type": "code",
   "execution_count": 2,
   "metadata": {
    "execution": {
     "iopub.execute_input": "2024-03-01T14:33:45.830655Z",
     "iopub.status.busy": "2024-03-01T14:33:45.830131Z",
     "iopub.status.idle": "2024-03-01T14:33:45.857591Z",
     "shell.execute_reply": "2024-03-01T14:33:45.856993Z"
    }
   },
   "outputs": [],
   "source": [
    "%matplotlib inline\n",
    "import time\n",
    "from pathlib import Path\n",
    "\n",
    "import matplotlib.pyplot as plt\n",
    "import numpy as np\n",
    "\n",
    "import qcodes as qc\n",
    "from qcodes.dataset import (\n",
    "    Measurement,\n",
    "    initialise_or_create_database_at,\n",
    "    load_or_create_experiment,\n",
    ")\n",
    "from qcodes.parameters import ManualParameter"
   ]
  },
  {
   "cell_type": "code",
   "execution_count": 3,
   "metadata": {
    "execution": {
     "iopub.execute_input": "2024-03-01T14:33:45.859971Z",
     "iopub.status.busy": "2024-03-01T14:33:45.859785Z",
     "iopub.status.idle": "2024-03-01T14:33:45.892083Z",
     "shell.execute_reply": "2024-03-01T14:33:45.891450Z"
    }
   },
   "outputs": [],
   "source": [
    "initialise_or_create_database_at(Path.cwd() / \"dataset_performance.db\")\n",
    "exp = load_or_create_experiment(experiment_name='tutorial_exp', sample_name=\"no sample\")"
   ]
  },
  {
   "cell_type": "markdown",
   "metadata": {},
   "source": [
    "Here, we define a simple function to benchmark the time it takes to insert n points with either numeric or array data type.\n",
    "We will compare both the time used to call ``add_result`` and the time used for the full measurement."
   ]
  },
  {
   "cell_type": "code",
   "execution_count": 4,
   "metadata": {
    "execution": {
     "iopub.execute_input": "2024-03-01T14:33:45.894608Z",
     "iopub.status.busy": "2024-03-01T14:33:45.894344Z",
     "iopub.status.idle": "2024-03-01T14:33:45.900327Z",
     "shell.execute_reply": "2024-03-01T14:33:45.899731Z"
    }
   },
   "outputs": [],
   "source": [
    "def insert_data(paramtype, npoints, nreps=1):\n",
    "\n",
    "    meas = Measurement(exp=exp)\n",
    "\n",
    "    x1 = ManualParameter('x1')\n",
    "    x2 = ManualParameter('x2')\n",
    "    x3 = ManualParameter('x3')\n",
    "    y1 = ManualParameter('y1')\n",
    "    y2 = ManualParameter('y2')\n",
    "\n",
    "    meas.register_parameter(x1, paramtype=paramtype)\n",
    "    meas.register_parameter(x2, paramtype=paramtype)\n",
    "    meas.register_parameter(x3, paramtype=paramtype)\n",
    "    meas.register_parameter(y1, setpoints=[x1, x2, x3],\n",
    "                            paramtype=paramtype)\n",
    "    meas.register_parameter(y2, setpoints=[x1, x2, x3],\n",
    "                            paramtype=paramtype)\n",
    "    start = time.perf_counter()\n",
    "    with meas.run() as datasaver:\n",
    "        start_adding = time.perf_counter()\n",
    "        for i in range(nreps):\n",
    "            datasaver.add_result((x1, np.random.rand(npoints)),\n",
    "                                 (x2, np.random.rand(npoints)),\n",
    "                                 (x3, np.random.rand(npoints)),\n",
    "                                 (y1, np.random.rand(npoints)),\n",
    "                                 (y2, np.random.rand(npoints)))\n",
    "        stop_adding = time.perf_counter()\n",
    "        run_id = datasaver.run_id\n",
    "    stop = time.perf_counter()\n",
    "    tot_time = stop - start\n",
    "    add_time = stop_adding - start_adding\n",
    "    return tot_time, add_time, run_id"
   ]
  },
  {
   "cell_type": "markdown",
   "metadata": {},
   "source": [
    "## Comparison between numeric/array data and binary blob"
   ]
  },
  {
   "cell_type": "markdown",
   "metadata": {},
   "source": [
    "### Case1: Short experiment time"
   ]
  },
  {
   "cell_type": "code",
   "execution_count": 5,
   "metadata": {
    "execution": {
     "iopub.execute_input": "2024-03-01T14:33:45.902420Z",
     "iopub.status.busy": "2024-03-01T14:33:45.902175Z",
     "iopub.status.idle": "2024-03-01T14:33:46.302718Z",
     "shell.execute_reply": "2024-03-01T14:33:46.302118Z"
    }
   },
   "outputs": [
    {
     "name": "stdout",
     "output_type": "stream",
     "text": [
      "Starting experimental run with id: 1. \n",
      "Starting experimental run with id: 2. \n",
      "Starting experimental run with id: 3. \n",
      "Starting experimental run with id: 4. \n",
      "Starting experimental run with id: 5. \n",
      "Starting experimental run with id: 6. \n",
      "Starting experimental run with id: 7. \n",
      "Starting experimental run with id: 8. \n",
      "Starting experimental run with id: 9. \n"
     ]
    },
    {
     "name": "stdout",
     "output_type": "stream",
     "text": [
      "Starting experimental run with id: 10. \n",
      "Starting experimental run with id: 11. \n",
      "Starting experimental run with id: 12. \n",
      "Starting experimental run with id: 13. \n",
      "Starting experimental run with id: 14. \n"
     ]
    }
   ],
   "source": [
    "sizes = [1,500,1000,2000,3000,4000,5000]\n",
    "t_numeric = []\n",
    "t_numeric_add = []\n",
    "t_array = []\n",
    "t_array_add = []\n",
    "for size in sizes:\n",
    "    tn, tna, run_id_n =  insert_data('numeric', size)\n",
    "    t_numeric.append(tn)\n",
    "    t_numeric_add.append(tna)\n",
    "\n",
    "    ta, taa, run_id_a =  insert_data('array', size)\n",
    "    t_array.append(ta)\n",
    "    t_array_add.append(taa)"
   ]
  },
  {
   "cell_type": "code",
   "execution_count": 6,
   "metadata": {
    "execution": {
     "iopub.execute_input": "2024-03-01T14:33:46.305338Z",
     "iopub.status.busy": "2024-03-01T14:33:46.305105Z",
     "iopub.status.idle": "2024-03-01T14:33:46.530848Z",
     "shell.execute_reply": "2024-03-01T14:33:46.530223Z"
    }
   },
   "outputs": [
    {
     "data": {
      "image/png": "[encoded data removed]",
      "text/plain": [
       "<Figure size 640x480 with 1 Axes>"
      ]
     },
     "metadata": {},
     "output_type": "display_data"
    }
   ],
   "source": [
    "fig, ax = plt.subplots(1,1)\n",
    "ax.plot(sizes, t_numeric, 'o-', label='Inserting row-by-row')\n",
    "ax.plot(sizes, t_numeric_add, 'o-', label='Inserting row-by-row: add_result only')\n",
    "ax.plot(sizes, t_array, 'd-', label='Inserting as binary blob')\n",
    "ax.plot(sizes, t_array_add, 'd-', label='Inserting as binary blob: add_result only')\n",
    "ax.legend()\n",
    "ax.set_xlabel('Array length')\n",
    "ax.set_ylabel('Time (s)')\n",
    "fig.tight_layout()"
   ]
  },
  {
   "cell_type": "markdown",
   "metadata": {},
   "source": [
    "As shown in the latter figure, the time to setup and and close the experiment is approximately 0.4 sec. In case of small array sizes, the difference between inserting values of data as arrays and inserting them row-by-row is relatively unimportant. At larger array sizes, i.e. above 10000 points, the cost of writing data as individual datapoints starts to become important.\n"
   ]
  },
  {
   "cell_type": "markdown",
   "metadata": {},
   "source": [
    "### Case2: Long experiment time "
   ]
  },
  {
   "cell_type": "code",
   "execution_count": 7,
   "metadata": {
    "execution": {
     "iopub.execute_input": "2024-03-01T14:33:46.533358Z",
     "iopub.status.busy": "2024-03-01T14:33:46.533138Z",
     "iopub.status.idle": "2024-03-01T14:34:06.460470Z",
     "shell.execute_reply": "2024-03-01T14:34:06.459772Z"
    }
   },
   "outputs": [
    {
     "name": "stdout",
     "output_type": "stream",
     "text": [
      "Starting experimental run with id: 15. \n",
      "Starting experimental run with id: 16. \n",
      "Starting experimental run with id: 17. \n"
     ]
    },
    {
     "name": "stdout",
     "output_type": "stream",
     "text": [
      "Starting experimental run with id: 18. \n",
      "Starting experimental run with id: 19. \n"
     ]
    },
    {
     "name": "stdout",
     "output_type": "stream",
     "text": [
      "Starting experimental run with id: 20. \n",
      "Starting experimental run with id: 21. \n"
     ]
    },
    {
     "name": "stdout",
     "output_type": "stream",
     "text": [
      "Starting experimental run with id: 22. \n",
      "Starting experimental run with id: 23. \n"
     ]
    },
    {
     "name": "stdout",
     "output_type": "stream",
     "text": [
      "Starting experimental run with id: 24. \n"
     ]
    },
    {
     "name": "stdout",
     "output_type": "stream",
     "text": [
      "Starting experimental run with id: 25. \n"
     ]
    },
    {
     "name": "stdout",
     "output_type": "stream",
     "text": [
      "Starting experimental run with id: 26. \n"
     ]
    },
    {
     "name": "stdout",
     "output_type": "stream",
     "text": [
      "Starting experimental run with id: 27. \n"
     ]
    },
    {
     "name": "stdout",
     "output_type": "stream",
     "text": [
      "Starting experimental run with id: 28. \n"
     ]
    }
   ],
   "source": [
    "sizes = [1,500,1000,2000,3000,4000,5000]\n",
    "nreps = 100\n",
    "t_numeric = []\n",
    "t_numeric_add = []\n",
    "t_numeric_run_ids = []\n",
    "t_array = []\n",
    "t_array_add = []\n",
    "t_array_run_ids = []\n",
    "for size in sizes:\n",
    "    tn, tna, run_id_n =  insert_data('numeric', size, nreps=nreps)\n",
    "    t_numeric.append(tn)\n",
    "    t_numeric_add.append(tna)\n",
    "    t_numeric_run_ids.append(run_id_n)\n",
    "\n",
    "    ta, taa, run_id_a =  insert_data('array', size, nreps=nreps)\n",
    "    t_array.append(ta)\n",
    "    t_array_add.append(taa)\n",
    "    t_array_run_ids.append(run_id_a)"
   ]
  },
  {
   "cell_type": "code",
   "execution_count": 8,
   "metadata": {
    "execution": {
     "iopub.execute_input": "2024-03-01T14:34:06.463297Z",
     "iopub.status.busy": "2024-03-01T14:34:06.462865Z",
     "iopub.status.idle": "2024-03-01T14:34:06.666486Z",
     "shell.execute_reply": "2024-03-01T14:34:06.665808Z"
    },
    "scrolled": true
   },
   "outputs": [
    {
     "data": {
      "image/png": "[encoded data removed]",
      "text/plain": [
       "<Figure size 640x480 with 1 Axes>"
      ]
     },
     "metadata": {},
     "output_type": "display_data"
    }
   ],
   "source": [
    "fig, ax = plt.subplots(1,1)\n",
    "ax.plot(sizes, t_numeric, 'o-', label='Inserting row-by-row')\n",
    "ax.plot(sizes, t_numeric_add, 'o-', label='Inserting row-by-row: add_result only')\n",
    "ax.plot(sizes, t_array, 'd-', label='Inserting as binary blob')\n",
    "ax.plot(sizes, t_array_add, 'd-', label='Inserting as binary blob: add_result only')\n",
    "ax.legend()\n",
    "ax.set_xlabel('Array length')\n",
    "ax.set_ylabel('Time (s)')\n",
    "fig.tight_layout()"
   ]
  },
  {
   "cell_type": "markdown",
   "metadata": {},
   "source": [
    "However, as we increase the length of the experiment, as seen here by repeating the insertion 100 times, we see a big difference between inserting values of the data row-by-row and inserting it as a binary blob."
   ]
  },
  {
   "cell_type": "markdown",
   "metadata": {},
   "source": [
    "## Loading the data "
   ]
  },
  {
   "cell_type": "code",
   "execution_count": 9,
   "metadata": {
    "execution": {
     "iopub.execute_input": "2024-03-01T14:34:06.669118Z",
     "iopub.status.busy": "2024-03-01T14:34:06.668609Z",
     "iopub.status.idle": "2024-03-01T14:34:06.672202Z",
     "shell.execute_reply": "2024-03-01T14:34:06.671625Z"
    }
   },
   "outputs": [],
   "source": [
    "from qcodes.dataset import load_by_id"
   ]
  },
  {
   "cell_type": "markdown",
   "metadata": {},
   "source": [
    "As usual you can load the data by using the ``load_by_id`` function but you will notice that the different storage methods\n",
    "are reflected in shape of the data as it is retrieved. "
   ]
  },
  {
   "cell_type": "code",
   "execution_count": 10,
   "metadata": {
    "execution": {
     "iopub.execute_input": "2024-03-01T14:34:06.674522Z",
     "iopub.status.busy": "2024-03-01T14:34:06.674092Z",
     "iopub.status.idle": "2024-03-01T14:34:06.677348Z",
     "shell.execute_reply": "2024-03-01T14:34:06.676783Z"
    }
   },
   "outputs": [],
   "source": [
    "run_id_n = t_numeric_run_ids[0]\n",
    "run_id_a = t_array_run_ids[0]"
   ]
  },
  {
   "cell_type": "code",
   "execution_count": 11,
   "metadata": {
    "execution": {
     "iopub.execute_input": "2024-03-01T14:34:06.679732Z",
     "iopub.status.busy": "2024-03-01T14:34:06.679254Z",
     "iopub.status.idle": "2024-03-01T14:34:06.689027Z",
     "shell.execute_reply": "2024-03-01T14:34:06.688480Z"
    },
    "scrolled": true
   },
   "outputs": [
    {
     "data": {
      "text/plain": [
       "{'x1': {'x1': array([0.65819269, 0.65819269, 0.09191378, 0.09191378, 0.4473263 ,\n",
       "         0.4473263 , 0.99027942, 0.99027942, 0.13279968, 0.13279968,\n",
       "         0.49752678, 0.49752678, 0.42037715, 0.42037715, 0.75924207,\n",
       "         0.75924207, 0.39783983, 0.39783983, 0.19199781, 0.19199781,\n",
       "         0.18112079, 0.18112079, 0.99252766, 0.99252766, 0.0761222 ,\n",
       "         0.0761222 , 0.73890088, 0.73890088, 0.19923727, 0.19923727,\n",
       "         0.31326155, 0.31326155, 0.44160282, 0.44160282, 0.81320133,\n",
       "         0.81320133, 0.62310107, 0.62310107, 0.16917323, 0.16917323,\n",
       "         0.33417212, 0.33417212, 0.63100699, 0.63100699, 0.3055975 ,\n",
       "         0.3055975 , 0.20587154, 0.20587154, 0.07728249, 0.07728249,\n",
       "         0.22943393, 0.22943393, 0.06697946, 0.06697946, 0.20186733,\n",
       "         0.20186733, 0.11695066, 0.11695066, 0.18390052, 0.18390052,\n",
       "         0.411055  , 0.411055  , 0.51809827, 0.51809827, 0.26010796,\n",
       "         0.26010796, 0.56160805, 0.56160805, 0.21411963, 0.21411963,\n",
       "         0.97819569, 0.97819569, 0.99162787, 0.99162787, 0.87689852,\n",
       "         0.87689852, 0.95501027, 0.95501027, 0.81846635, 0.81846635,\n",
       "         0.54149518, 0.54149518, 0.61123574, 0.61123574, 0.04890048,\n",
       "         0.04890048, 0.19638178, 0.19638178, 0.47928028, 0.47928028,\n",
       "         0.48585764, 0.48585764, 0.28548792, 0.28548792, 0.63902227,\n",
       "         0.63902227, 0.01423091, 0.01423091, 0.6645403 , 0.6645403 ,\n",
       "         0.11792241, 0.11792241, 0.02287018, 0.02287018, 0.65920211,\n",
       "         0.65920211, 0.04151752, 0.04151752, 0.36294969, 0.36294969,\n",
       "         0.28658061, 0.28658061, 0.26894037, 0.26894037, 0.52529661,\n",
       "         0.52529661, 0.40255855, 0.40255855, 0.64002225, 0.64002225,\n",
       "         0.84650358, 0.84650358, 0.99752691, 0.99752691, 0.72369644,\n",
       "         0.72369644, 0.43162475, 0.43162475, 0.10792785, 0.10792785,\n",
       "         0.14342586, 0.14342586, 0.82741485, 0.82741485, 0.45454005,\n",
       "         0.45454005, 0.43951134, 0.43951134, 0.20603769, 0.20603769,\n",
       "         0.98801578, 0.98801578, 0.50241616, 0.50241616, 0.93237998,\n",
       "         0.93237998, 0.94098862, 0.94098862, 0.67870764, 0.67870764,\n",
       "         0.33356643, 0.33356643, 0.45181753, 0.45181753, 0.39677642,\n",
       "         0.39677642, 0.46357192, 0.46357192, 0.15828379, 0.15828379,\n",
       "         0.29790277, 0.29790277, 0.66101692, 0.66101692, 0.00685627,\n",
       "         0.00685627, 0.00404685, 0.00404685, 0.2568732 , 0.2568732 ,\n",
       "         0.14767722, 0.14767722, 0.28545914, 0.28545914, 0.93700886,\n",
       "         0.93700886, 0.36834119, 0.36834119, 0.9770834 , 0.9770834 ,\n",
       "         0.85165065, 0.85165065, 0.01166431, 0.01166431, 0.03584866,\n",
       "         0.03584866, 0.59845742, 0.59845742, 0.2868815 , 0.2868815 ,\n",
       "         0.92370003, 0.92370003, 0.2498113 , 0.2498113 , 0.97937946,\n",
       "         0.97937946, 0.30145298, 0.30145298, 0.20894587, 0.20894587])}}"
      ]
     },
     "execution_count": 11,
     "metadata": {},
     "output_type": "execute_result"
    }
   ],
   "source": [
    "ds = load_by_id(run_id_n)\n",
    "ds.get_parameter_data('x1')"
   ]
  },
  {
   "cell_type": "markdown",
   "metadata": {},
   "source": [
    "And a dataset stored as binary arrays"
   ]
  },
  {
   "cell_type": "code",
   "execution_count": 12,
   "metadata": {
    "execution": {
     "iopub.execute_input": "2024-03-01T14:34:06.691575Z",
     "iopub.status.busy": "2024-03-01T14:34:06.691233Z",
     "iopub.status.idle": "2024-03-01T14:34:06.709674Z",
     "shell.execute_reply": "2024-03-01T14:34:06.709104Z"
    },
    "scrolled": true
   },
   "outputs": [
    {
     "data": {
      "text/plain": [
       "{'x1': {'x1': array([[6.56851625e-01],\n",
       "         [6.56851625e-01],\n",
       "         [8.27455882e-01],\n",
       "         [8.27455882e-01],\n",
       "         [2.94975470e-01],\n",
       "         [2.94975470e-01],\n",
       "         [4.54938005e-01],\n",
       "         [4.54938005e-01],\n",
       "         [6.99277136e-01],\n",
       "         [6.99277136e-01],\n",
       "         [2.08649594e-01],\n",
       "         [2.08649594e-01],\n",
       "         [3.15431871e-01],\n",
       "         [3.15431871e-01],\n",
       "         [7.73163876e-01],\n",
       "         [7.73163876e-01],\n",
       "         [3.63078120e-01],\n",
       "         [3.63078120e-01],\n",
       "         [3.87765690e-01],\n",
       "         [3.87765690e-01],\n",
       "         [4.49819027e-01],\n",
       "         [4.49819027e-01],\n",
       "         [5.74908823e-01],\n",
       "         [5.74908823e-01],\n",
       "         [8.12382965e-01],\n",
       "         [8.12382965e-01],\n",
       "         [9.77637217e-01],\n",
       "         [9.77637217e-01],\n",
       "         [7.04531429e-03],\n",
       "         [7.04531429e-03],\n",
       "         [8.07691346e-02],\n",
       "         [8.07691346e-02],\n",
       "         [6.69146034e-01],\n",
       "         [6.69146034e-01],\n",
       "         [6.13458627e-04],\n",
       "         [6.13458627e-04],\n",
       "         [7.18991793e-01],\n",
       "         [7.18991793e-01],\n",
       "         [5.23652244e-01],\n",
       "         [5.23652244e-01],\n",
       "         [8.80928235e-02],\n",
       "         [8.80928235e-02],\n",
       "         [9.96538051e-01],\n",
       "         [9.96538051e-01],\n",
       "         [7.71916128e-01],\n",
       "         [7.71916128e-01],\n",
       "         [1.28888868e-01],\n",
       "         [1.28888868e-01],\n",
       "         [6.52806180e-01],\n",
       "         [6.52806180e-01],\n",
       "         [5.40463825e-01],\n",
       "         [5.40463825e-01],\n",
       "         [2.19442790e-01],\n",
       "         [2.19442790e-01],\n",
       "         [5.28316898e-01],\n",
       "         [5.28316898e-01],\n",
       "         [2.12775495e-01],\n",
       "         [2.12775495e-01],\n",
       "         [4.65476482e-02],\n",
       "         [4.65476482e-02],\n",
       "         [3.20111263e-01],\n",
       "         [3.20111263e-01],\n",
       "         [2.75083662e-01],\n",
       "         [2.75083662e-01],\n",
       "         [9.75977628e-01],\n",
       "         [9.75977628e-01],\n",
       "         [8.16890958e-01],\n",
       "         [8.16890958e-01],\n",
       "         [3.76874286e-01],\n",
       "         [3.76874286e-01],\n",
       "         [6.90900081e-01],\n",
       "         [6.90900081e-01],\n",
       "         [3.76062480e-01],\n",
       "         [3.76062480e-01],\n",
       "         [5.01931454e-01],\n",
       "         [5.01931454e-01],\n",
       "         [1.25531633e-01],\n",
       "         [1.25531633e-01],\n",
       "         [5.60928080e-01],\n",
       "         [5.60928080e-01],\n",
       "         [9.22568157e-01],\n",
       "         [9.22568157e-01],\n",
       "         [4.90115532e-02],\n",
       "         [4.90115532e-02],\n",
       "         [1.33813477e-02],\n",
       "         [1.33813477e-02],\n",
       "         [1.97703705e-01],\n",
       "         [1.97703705e-01],\n",
       "         [2.76743924e-01],\n",
       "         [2.76743924e-01],\n",
       "         [4.27484974e-01],\n",
       "         [4.27484974e-01],\n",
       "         [5.68762924e-01],\n",
       "         [5.68762924e-01],\n",
       "         [8.16586302e-01],\n",
       "         [8.16586302e-01],\n",
       "         [2.75469414e-01],\n",
       "         [2.75469414e-01],\n",
       "         [4.05540219e-01],\n",
       "         [4.05540219e-01],\n",
       "         [3.82014773e-01],\n",
       "         [3.82014773e-01],\n",
       "         [7.97272533e-02],\n",
       "         [7.97272533e-02],\n",
       "         [4.05700578e-01],\n",
       "         [4.05700578e-01],\n",
       "         [7.88641512e-01],\n",
       "         [7.88641512e-01],\n",
       "         [1.14730515e-01],\n",
       "         [1.14730515e-01],\n",
       "         [3.75168678e-01],\n",
       "         [3.75168678e-01],\n",
       "         [5.94856278e-01],\n",
       "         [5.94856278e-01],\n",
       "         [3.69024395e-01],\n",
       "         [3.69024395e-01],\n",
       "         [5.23655450e-01],\n",
       "         [5.23655450e-01],\n",
       "         [4.71049610e-01],\n",
       "         [4.71049610e-01],\n",
       "         [8.57147293e-01],\n",
       "         [8.57147293e-01],\n",
       "         [6.03782474e-01],\n",
       "         [6.03782474e-01],\n",
       "         [6.37939874e-01],\n",
       "         [6.37939874e-01],\n",
       "         [6.06332424e-01],\n",
       "         [6.06332424e-01],\n",
       "         [2.42141927e-01],\n",
       "         [2.42141927e-01],\n",
       "         [9.42215286e-01],\n",
       "         [9.42215286e-01],\n",
       "         [6.49895513e-01],\n",
       "         [6.49895513e-01],\n",
       "         [3.20312876e-01],\n",
       "         [3.20312876e-01],\n",
       "         [2.81347811e-01],\n",
       "         [2.81347811e-01],\n",
       "         [2.74314702e-01],\n",
       "         [2.74314702e-01],\n",
       "         [7.99240910e-01],\n",
       "         [7.99240910e-01],\n",
       "         [6.39610649e-01],\n",
       "         [6.39610649e-01],\n",
       "         [4.86514709e-01],\n",
       "         [4.86514709e-01],\n",
       "         [3.61014200e-01],\n",
       "         [3.61014200e-01],\n",
       "         [6.68949491e-01],\n",
       "         [6.68949491e-01],\n",
       "         [7.63849580e-01],\n",
       "         [7.63849580e-01],\n",
       "         [7.79957262e-01],\n",
       "         [7.79957262e-01],\n",
       "         [7.57595690e-01],\n",
       "         [7.57595690e-01],\n",
       "         [9.31811995e-01],\n",
       "         [9.31811995e-01],\n",
       "         [2.10060198e-02],\n",
       "         [2.10060198e-02],\n",
       "         [6.71079846e-01],\n",
       "         [6.71079846e-01],\n",
       "         [1.50636438e-01],\n",
       "         [1.50636438e-01],\n",
       "         [2.59855913e-01],\n",
       "         [2.59855913e-01],\n",
       "         [8.54664893e-01],\n",
       "         [8.54664893e-01],\n",
       "         [6.99237408e-01],\n",
       "         [6.99237408e-01],\n",
       "         [4.64656464e-01],\n",
       "         [4.64656464e-01],\n",
       "         [1.73088172e-01],\n",
       "         [1.73088172e-01],\n",
       "         [3.75258075e-01],\n",
       "         [3.75258075e-01],\n",
       "         [3.03094490e-01],\n",
       "         [3.03094490e-01],\n",
       "         [3.19555722e-01],\n",
       "         [3.19555722e-01],\n",
       "         [6.31279057e-01],\n",
       "         [6.31279057e-01],\n",
       "         [8.23573393e-01],\n",
       "         [8.23573393e-01],\n",
       "         [5.64254167e-01],\n",
       "         [5.64254167e-01],\n",
       "         [6.71381357e-01],\n",
       "         [6.71381357e-01],\n",
       "         [7.62870742e-01],\n",
       "         [7.62870742e-01],\n",
       "         [8.65305677e-01],\n",
       "         [8.65305677e-01],\n",
       "         [1.42714343e-01],\n",
       "         [1.42714343e-01],\n",
       "         [7.37731272e-01],\n",
       "         [7.37731272e-01],\n",
       "         [3.64866241e-01],\n",
       "         [3.64866241e-01],\n",
       "         [9.49054026e-01],\n",
       "         [9.49054026e-01]])}}"
      ]
     },
     "execution_count": 12,
     "metadata": {},
     "output_type": "execute_result"
    }
   ],
   "source": [
    "ds = load_by_id(run_id_a)\n",
    "ds.get_parameter_data('x1')"
   ]
  },
  {
   "cell_type": "code",
   "execution_count": null,
   "metadata": {},
   "outputs": [],
   "source": []
  }
 ],
 "metadata": {
  "kernelspec": {
   "display_name": "Python 3",
   "language": "python",
   "name": "python3"
  },
  "language_info": {
   "codemirror_mode": {
    "name": "ipython",
    "version": 3
   },
   "file_extension": ".py",
   "mimetype": "text/x-python",
   "name": "python",
   "nbconvert_exporter": "python",
   "pygments_lexer": "ipython3",
   "version": "3.11.8"
  },
  "nbsphinx": {
   "timeout": 600
  },
  "toc": {
   "base_numbering": 1,
   "nav_menu": {},
   "number_sections": true,
   "sideBar": true,
   "skip_h1_title": false,
   "title_cell": "Table of Contents",
   "title_sidebar": "Contents",
   "toc_cell": false,
   "toc_position": {},
   "toc_section_display": true,
   "toc_window_display": false
  },
  "varInspector": {
   "cols": {
    "lenName": 16,
    "lenType": 16,
    "lenVar": 40
   },
   "kernels_config": {
    "python": {
     "delete_cmd_postfix": "",
     "delete_cmd_prefix": "del ",
     "library": "var_list.py",
     "varRefreshCmd": "print(var_dic_list())"
    },
    "r": {
     "delete_cmd_postfix": ") ",
     "delete_cmd_prefix": "rm(",
     "library": "var_list.r",
     "varRefreshCmd": "cat(var_dic_list()) "
    }
   },
   "types_to_exclude": [
    "module",
    "function",
    "builtin_function_or_method",
    "instance",
    "_Feature"
   ],
   "window_display": false
  }
 },
 "nbformat": 4,
 "nbformat_minor": 4
}
